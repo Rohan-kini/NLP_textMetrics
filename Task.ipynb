{
 "cells": [
  {
   "cell_type": "code",
   "execution_count": 1,
   "id": "9cc4ad4f",
   "metadata": {},
   "outputs": [
    {
     "name": "stderr",
     "output_type": "stream",
     "text": [
      "[nltk_data] Downloading package punkt to\n",
      "[nltk_data]     C:\\Users\\rohan\\AppData\\Roaming\\nltk_data...\n",
      "[nltk_data]   Package punkt is already up-to-date!\n",
      "[nltk_data] Downloading package stopwords to\n",
      "[nltk_data]     C:\\Users\\rohan\\AppData\\Roaming\\nltk_data...\n",
      "[nltk_data]   Package stopwords is already up-to-date!\n"
     ]
    }
   ],
   "source": [
    "import requests\n",
    "from bs4 import BeautifulSoup\n",
    "from nltk.tokenize import word_tokenize\n",
    "import nltk\n",
    "nltk.download('punkt')\n",
    "nltk.download('stopwords')\n",
    "from nltk.corpus import stopwords\n",
    "from nltk.tokenize import word_tokenize, sent_tokenize\n",
    "import re"
   ]
  },
  {
   "cell_type": "code",
   "execution_count": 2,
   "id": "43d7efa9",
   "metadata": {},
   "outputs": [],
   "source": [
    "# loading the files we will be wanting ahead the master dictionary...and keep its set prepared\n",
    "\n",
    "with open('positive-words.txt', 'r') as file:\n",
    "    positive_words = file.read().splitlines()\n",
    "\n",
    "with open('negative-words.txt', 'r') as file:\n",
    "    negative_words = file.read().splitlines()\n",
    "    \n",
    "positive_words_set = set(positive_words)\n",
    "negative_words_set = set(negative_words)"
   ]
  },
  {
   "cell_type": "code",
   "execution_count": 3,
   "id": "3c760d90",
   "metadata": {},
   "outputs": [],
   "source": [
    "def scrape(url):\n",
    "    try:\n",
    "        response = requests.get(url)\n",
    "        response.raise_for_status()  # Check for HTTP errors\n",
    "        soup = BeautifulSoup(response.content, 'html.parser')\n",
    "        \n",
    "        title_element = soup.find('h1', class_='entry-title')\n",
    "        article_element = soup.find('div', class_='td-post-content')\n",
    "        \n",
    "        title = title_element.text if title_element else 'Nill'\n",
    "        article_text = article_element.text if article_element else 'Nill'\n",
    "        \n",
    "        return title, article_text\n",
    "    except requests.exceptions.RequestException as e:\n",
    "        print(f\"Request error for URL {url}: {e}\")\n",
    "        return 'No Title Found', 'No Article Text Found'\n",
    "    except Exception as e:\n",
    "        print(f\"An error occurred while scraping URL {url}: {e}\")\n",
    "        return 'No Title Found', 'No Article Text Found'\n",
    "    "
   ]
  },
  {
   "cell_type": "code",
   "execution_count": 4,
   "id": "197a9a99",
   "metadata": {},
   "outputs": [],
   "source": [
    "def remove_punctuation(text):\n",
    "    pattern = r'[^\\w\\s]'\n",
    "    # Replace punctuation with an empty string\n",
    "    clean_sentence = re.sub(pattern, '', text)\n",
    "    return clean_sentence"
   ]
  },
  {
   "cell_type": "code",
   "execution_count": 5,
   "id": "0e0c6f83",
   "metadata": {},
   "outputs": [],
   "source": [
    "def clean_it(article_text):\n",
    "    clean_sent=remove_punctuation(article_text)\n",
    "    stop_words = set(stopwords.words('english'))\n",
    "    clean_words=word_tokenize(clean_sent)\n",
    "    clean_words_list_after_sw = [word for word in clean_words if word.lower() not in stop_words]\n",
    "    return clean_sent,clean_words_list_after_sw\n",
    "    "
   ]
  },
  {
   "cell_type": "markdown",
   "id": "e06b0698",
   "metadata": {},
   "source": [
    "# EXAMPLE TESTING "
   ]
  },
  {
   "cell_type": "code",
   "execution_count": 6,
   "id": "69dd4a0b",
   "metadata": {},
   "outputs": [
    {
     "name": "stdout",
     "output_type": "stream",
     "text": [
      "Rising IT cities and its impact on the economy, environment, infrastructure, and city life by the year 2040.\n",
      "\n",
      "We have seen a huge development and dependence of people on technology in recent years. We have als\n",
      "\n",
      "We have seen a huge development and dependence of people on technology in recent years We have als\n",
      "['seen', 'huge', 'development', 'dependence', 'people', 'technology', 'recent', 'years', 'als']\n"
     ]
    }
   ],
   "source": [
    "url = \"https://insights.blackcoffer.com/rising-it-cities-and-its-impact-on-the-economy-environment-infrastructure-and-city-life-by-the-year-2040-2/\"\n",
    "title,article_text=scrape(url)\n",
    "print(title)\n",
    "print(article_text[:100])\n",
    "clean_sentence,clean_words_list=clean_it(article_text[:100])\n",
    "print(clean_sentence)\n",
    "print(clean_words_list)"
   ]
  },
  {
   "cell_type": "code",
   "execution_count": 7,
   "id": "71cbe442",
   "metadata": {},
   "outputs": [],
   "source": [
    "def scores(clean_words_list,positive_words_set,negative_words_set):\n",
    "    positive_score = sum(1 for word in clean_words_list if word.lower() in positive_words_set)\n",
    "    negative_score = sum(1 for word in clean_words_list if word.lower() in negative_words_set)\n",
    "    polarity_score = (positive_score - negative_score) / (positive_score + negative_score + 0.000001)\n",
    "    subjectivity_score = (positive_score +  negative_score)/ (len(clean_words_list) + 0.000001)\n",
    "    return positive_score,negative_score,polarity_score,subjectivity_score"
   ]
  },
  {
   "cell_type": "markdown",
   "id": "a1d42227",
   "metadata": {},
   "source": [
    "# EXAMPLE TESTING"
   ]
  },
  {
   "cell_type": "code",
   "execution_count": 8,
   "id": "059b7898",
   "metadata": {},
   "outputs": [
    {
     "name": "stdout",
     "output_type": "stream",
     "text": [
      "Rising IT cities and its impact on the economy, environment, infrastructure, and city life by the year 2040.\n",
      "\n",
      "We have seen a huge development and dependence of people on technology in recent years. We have als\n",
      "\n",
      "We have seen a huge development and dependence of people on technology in recent years We have also seen the development of AI and ChatGPT in recent years So it is a normal thing that we will become fully dependent on technology by 2040 Information technology will be a major power for all the developing nations As a member of a developing nation India is rapidly growing its IT base It has also grown some IT cities which will be the major control centres for Information technology by 2040\n",
      "Rising IT cities\n",
      "\n",
      "Noida Noida in Uttar Pradesh near New Delhi is an emerging IT sector now Many large companies like Google Microsoft IBM Infosys and others have set up their companies here Noida has a market base of billions of dollars and is doing a great job of boosting the national economy The establishment of so many software companies has made Noida an information technology hub\n",
      "Gurgaon Gurgaon in Haryana is also an emerging IT hub Many large companies like Google Microsoft IBM Infosys and others have set up their companies here Gurgaon has a market base of billions of dollars and is doing a great job of boosting the national economy\n",
      "Bengaluru Bengaluru is called as the IT hub of India It is also a smart city Many large companies like Google Microsoft IBM Infosys and others have set up their companies here Bengaluru has a market base of billions of dollars and is doing a great job of boosting the national economy\n",
      "\n",
      "Kolkata Kolkata in West Bengal is an emerging major IT hub The new Kolkata ie Saltlake Sector  5 New town Rajarhat area of Kolkata is a major IT hub The government is giving the software companies land at almost free of cost to set up the companies there Many large companies like Google Microsoft IBM Infosys and others have set up their companies here Kolkata has a market base of billions of dollars and is doing a great job of boosting the national economy\n",
      "Impact on Economy\n",
      "There is a huge impact of the rising IT cities on our economy Some of the effects are\n",
      "\n",
      "Demand The rising IT cities will greatly help to boost our economy These will create a huge demand for raw materials The products when ready will be a huge demand for the people too\n",
      "Supply Supply means the fulfilment of demand In a large and highly populous country like India there is always a demand for finished products If more IT cities do not develop the companies cannot fulfil the needs and desires of the people of a populous country like India As IT cities develop more IT companies will come which will supply more and more finished IT products to our people\n",
      "Market A market is a place where different economic agents like buyers and sellers interact with one another In a populous country like India there is a huge market As IT cities will grow more and more IT companies will come from across the world and more will the competition in the market increase This will help consumers as they will get more and more differentiated products and the market will also run smoothly A competitive market is always good and healthy We can safely assume that our oligopoly market will surely tend to reach a perfectly competitive market by the year 2040\n",
      "Revenue As the market increases more revenue will be generated Now at present the IT revenue of India is 245 million dollars 19 million dollars more than the financial year 2022 If IT cities grow then more companies will invest which leads to an increase in the IT market which in turn generates more revenue in India We can expect that the IT revenue of India will cross or nearly tend to reach 10 billion dollars by 2040\n",
      "\n",
      "Impact on Environment\n",
      "The rising IT cities will create a huge impact on the environment the maximum of which will be harmful effects The impact of rising IT cities on the environment is\n",
      "\n",
      "Deforestation There will be cutting of trees in huge numbers to make the building of the IT companies which will cause great harm to the environment The cutting of trees on a large scale will also cause mass degradation of forests\n",
      "More carbon footprint The IT companies will generate more carbon footprint in the atmosphere South Asian countries including India are known for their lower carbon footprint But if the IT sector grows this way then we will also be at the same pace of generation of carbon footprint by 2040\n",
      "Death of birds The cell phone and mobile towers by the telecom companies caused the death of birds which caused a great imbalance in the ecosystem The number of sparrows has been reduced due to this phenomenon If this goes on we can see the extinction of many bird species by 2040\n",
      "\n",
      "Impact on infrastructure\n",
      "There are many contributions of the IT cities on infrastructure  They are\n",
      "\n",
      "Transportation The rising IT cities need an excellent transport system for the supply of raw materials and delivery of the finished products into the market So the transportation system develops in that area So we have an excellent transport system by 2040\n",
      "Need for a public transport system There is a need for a public transport system in the IT cities As the IT cities are a source of employment and a huge population reside in these areas there is an adequate need for public transport systems like buses taxis etc We hope that it will be improved by 2040\n",
      "Water supply As a huge number of people reside in the IT cities there is a need for adequate water supply to fulfil the needs of people as well as for industries This will help us to find many new methods of water supply and conservation by 2040\n",
      "Electricity Electric supply is the lifeline of the sector Without an electric supply no machines will run and not even the IT cities will flourish If the IT cities flourish this way we going to have an excellent electric supply by 2040\n",
      "Healthcare As a large number of people reside in IT cities there is a need for proper health infrastructure and healthcare facilities for the people So with the growth of IT cities our healthcare system will also improve by 2040\n",
      "Education Education is the primary key or core of any nation There must be proper education and training centres in those IT cities to fulfil the peoples demands  So with the growth of IT cities the education system will also develop by 2040 Our education is also going to be skilloriented\n",
      "\n",
      "Impact on city life\n",
      "With the growth of IT cities more people will get jobs and will earn more So the purchasing power of the people will increase People will lead a better lifestyle They will buy things of good brand value The tastes and preferences of people will also change The human development index is going to increase People will buy good quality food and good quality cars So the food automobile and many other industries are going to increase So there will be a huge impact on city life by 2040\n",
      "Blackcoffer Insights 47 Arka Mukhopadhyay West Bengal University Of Animal And Fishery Sciences \n",
      "\n",
      "['seen', 'huge', 'development', 'dependence', 'people', 'technology', 'recent', 'years', 'also', 'seen', 'development', 'AI', 'ChatGPT', 'recent', 'years', 'normal', 'thing', 'become', 'fully', 'dependent', 'technology', '2040', 'Information', 'technology', 'major', 'power', 'developing', 'nations', 'member', 'developing', 'nation', 'India', 'rapidly', 'growing', 'base', 'also', 'grown', 'cities', 'major', 'control', 'centres', 'Information', 'technology', '2040', 'Rising', 'cities', 'Noida', 'Noida', 'Uttar', 'Pradesh', 'near', 'New', 'Delhi', 'emerging', 'sector', 'Many', 'large', 'companies', 'like', 'Google', 'Microsoft', 'IBM', 'Infosys', 'others', 'set', 'companies', 'Noida', 'market', 'base', 'billions', 'dollars', 'great', 'job', 'boosting', 'national', 'economy', 'establishment', 'many', 'software', 'companies', 'made', 'Noida', 'information', 'technology', 'hub', 'Gurgaon', 'Gurgaon', 'Haryana', 'also', 'emerging', 'hub', 'Many', 'large', 'companies', 'like', 'Google', 'Microsoft', 'IBM', 'Infosys', 'others', 'set', 'companies', 'Gurgaon', 'market', 'base', 'billions', 'dollars', 'great', 'job', 'boosting', 'national', 'economy', 'Bengaluru', 'Bengaluru', 'called', 'hub', 'India', 'also', 'smart', 'city', 'Many', 'large', 'companies', 'like', 'Google', 'Microsoft', 'IBM', 'Infosys', 'others', 'set', 'companies', 'Bengaluru', 'market', 'base', 'billions', 'dollars', 'great', 'job', 'boosting', 'national', 'economy', 'Kolkata', 'Kolkata', 'West', 'Bengal', 'emerging', 'major', 'hub', 'new', 'Kolkata', 'ie', 'Saltlake', 'Sector', '5', 'New', 'town', 'Rajarhat', 'area', 'Kolkata', 'major', 'hub', 'government', 'giving', 'software', 'companies', 'land', 'almost', 'free', 'cost', 'set', 'companies', 'Many', 'large', 'companies', 'like', 'Google', 'Microsoft', 'IBM', 'Infosys', 'others', 'set', 'companies', 'Kolkata', 'market', 'base', 'billions', 'dollars', 'great', 'job', 'boosting', 'national', 'economy', 'Impact', 'Economy', 'huge', 'impact', 'rising', 'cities', 'economy', 'effects', 'Demand', 'rising', 'cities', 'greatly', 'help', 'boost', 'economy', 'create', 'huge', 'demand', 'raw', 'materials', 'products', 'ready', 'huge', 'demand', 'people', 'Supply', 'Supply', 'means', 'fulfilment', 'demand', 'large', 'highly', 'populous', 'country', 'like', 'India', 'always', 'demand', 'finished', 'products', 'cities', 'develop', 'companies', 'fulfil', 'needs', 'desires', 'people', 'populous', 'country', 'like', 'India', 'cities', 'develop', 'companies', 'come', 'supply', 'finished', 'products', 'people', 'Market', 'market', 'place', 'different', 'economic', 'agents', 'like', 'buyers', 'sellers', 'interact', 'one', 'another', 'populous', 'country', 'like', 'India', 'huge', 'market', 'cities', 'grow', 'companies', 'come', 'across', 'world', 'competition', 'market', 'increase', 'help', 'consumers', 'get', 'differentiated', 'products', 'market', 'also', 'run', 'smoothly', 'competitive', 'market', 'always', 'good', 'healthy', 'safely', 'assume', 'oligopoly', 'market', 'surely', 'tend', 'reach', 'perfectly', 'competitive', 'market', 'year', '2040', 'Revenue', 'market', 'increases', 'revenue', 'generated', 'present', 'revenue', 'India', '245', 'million', 'dollars', '19', 'million', 'dollars', 'financial', 'year', '2022', 'cities', 'grow', 'companies', 'invest', 'leads', 'increase', 'market', 'turn', 'generates', 'revenue', 'India', 'expect', 'revenue', 'India', 'cross', 'nearly', 'tend', 'reach', '10', 'billion', 'dollars', '2040', 'Impact', 'Environment', 'rising', 'cities', 'create', 'huge', 'impact', 'environment', 'maximum', 'harmful', 'effects', 'impact', 'rising', 'cities', 'environment', 'Deforestation', 'cutting', 'trees', 'huge', 'numbers', 'make', 'building', 'companies', 'cause', 'great', 'harm', 'environment', 'cutting', 'trees', 'large', 'scale', 'also', 'cause', 'mass', 'degradation', 'forests', 'carbon', 'footprint', 'companies', 'generate', 'carbon', 'footprint', 'atmosphere', 'South', 'Asian', 'countries', 'including', 'India', 'known', 'lower', 'carbon', 'footprint', 'sector', 'grows', 'way', 'also', 'pace', 'generation', 'carbon', 'footprint', '2040', 'Death', 'birds', 'cell', 'phone', 'mobile', 'towers', 'telecom', 'companies', 'caused', 'death', 'birds', 'caused', 'great', 'imbalance', 'ecosystem', 'number', 'sparrows', 'reduced', 'due', 'phenomenon', 'goes', 'see', 'extinction', 'many', 'bird', 'species', '2040', 'Impact', 'infrastructure', 'many', 'contributions', 'cities', 'infrastructure', 'Transportation', 'rising', 'cities', 'need', 'excellent', 'transport', 'system', 'supply', 'raw', 'materials', 'delivery', 'finished', 'products', 'market', 'transportation', 'system', 'develops', 'area', 'excellent', 'transport', 'system', '2040', 'Need', 'public', 'transport', 'system', 'need', 'public', 'transport', 'system', 'cities', 'cities', 'source', 'employment', 'huge', 'population', 'reside', 'areas', 'adequate', 'need', 'public', 'transport', 'systems', 'like', 'buses', 'taxis', 'etc', 'hope', 'improved', '2040', 'Water', 'supply', 'huge', 'number', 'people', 'reside', 'cities', 'need', 'adequate', 'water', 'supply', 'fulfil', 'needs', 'people', 'well', 'industries', 'help', 'us', 'find', 'many', 'new', 'methods', 'water', 'supply', 'conservation', '2040', 'Electricity', 'Electric', 'supply', 'lifeline', 'sector', 'Without', 'electric', 'supply', 'machines', 'run', 'even', 'cities', 'flourish', 'cities', 'flourish', 'way', 'going', 'excellent', 'electric', 'supply', '2040', 'Healthcare', 'large', 'number', 'people', 'reside', 'cities', 'need', 'proper', 'health', 'infrastructure', 'healthcare', 'facilities', 'people', 'growth', 'cities', 'healthcare', 'system', 'also', 'improve', '2040', 'Education', 'Education', 'primary', 'key', 'core', 'nation', 'must', 'proper', 'education', 'training', 'centres', 'cities', 'fulfil', 'peoples', 'demands', 'growth', 'cities', 'education', 'system', 'also', 'develop', '2040', 'education', 'also', 'going', 'skilloriented', 'Impact', 'city', 'life', 'growth', 'cities', 'people', 'get', 'jobs', 'earn', 'purchasing', 'power', 'people', 'increase', 'People', 'lead', 'better', 'lifestyle', 'buy', 'things', 'good', 'brand', 'value', 'tastes', 'preferences', 'people', 'also', 'change', 'human', 'development', 'index', 'going', 'increase', 'People', 'buy', 'good', 'quality', 'food', 'good', 'quality', 'cars', 'food', 'automobile', 'many', 'industries', 'going', 'increase', 'huge', 'impact', 'city', 'life', '2040', 'Blackcoffer', 'Insights', '47', 'Arka', 'Mukhopadhyay', 'West', 'Bengal', 'University', 'Animal', 'Fishery', 'Sciences']\n",
      "Scores are(44, 6, 0.7599999848000003, 0.07788161981638377)\n"
     ]
    }
   ],
   "source": [
    "url = \"https://insights.blackcoffer.com/rising-it-cities-and-its-impact-on-the-economy-environment-infrastructure-and-city-life-by-the-year-2040-2/\"\n",
    "title,article_text=scrape(url)\n",
    "print(title)\n",
    "print(article_text[:100])\n",
    "clean_sentence,clean_words_list=clean_it(article_text)\n",
    "print(clean_sentence)\n",
    "print(clean_words_list)\n",
    "p,n,po,su=scores(clean_words_list,positive_words_set,negative_words_set)\n",
    "print(f\"Scores are{p,n,po,su}\")"
   ]
  },
  {
   "cell_type": "code",
   "execution_count": 9,
   "id": "824a0a3c",
   "metadata": {},
   "outputs": [],
   "source": [
    "#THIS IS WHEN NO STOP WORDS WERE REMOVED NO PUNCTUATION WERE REMOVED EVERYTHING WAS AS IT IS .\n",
    "def average_sentence_length(article_text):\n",
    "    sentences = sent_tokenize(article_text)\n",
    "    words=word_tokenize(article_text)\n",
    "    average_num_of_wrds_present= len(words) /len(sentences)\n",
    "    return average_num_of_wrds_present"
   ]
  },
  {
   "cell_type": "code",
   "execution_count": 10,
   "id": "70af6f61",
   "metadata": {},
   "outputs": [],
   "source": [
    "def average_word_length(clean_words_list):\n",
    "    sum=0\n",
    "    for word in clean_words_list:\n",
    "        sum=sum+len(word)\n",
    "    avg_word_count=sum/len(clean_words_list)\n",
    "    return avg_word_count"
   ]
  },
  {
   "cell_type": "code",
   "execution_count": 11,
   "id": "41880a00",
   "metadata": {},
   "outputs": [],
   "source": [
    "def count_personal_pronouns(text):\n",
    "    text = text.lower()\n",
    "    pronouns = r'\\b(i|me|my|mine|we|us|our|ours)\\b'\n",
    "    matches = re.findall(pronouns, text)\n",
    "    pronoun_count = len(matches)\n",
    "    return pronoun_count\n"
   ]
  },
  {
   "cell_type": "markdown",
   "id": "ee1add85",
   "metadata": {},
   "source": [
    "# EXAMPLE TESTING"
   ]
  },
  {
   "cell_type": "code",
   "execution_count": 12,
   "id": "37b10d5f",
   "metadata": {},
   "outputs": [
    {
     "name": "stdout",
     "output_type": "stream",
     "text": [
      "Rise of Cyber Crime and its Effects\n",
      "\n",
      "Cybercrime is the most discussed problem in the twenty-first century. The usage of cell phones and \n",
      "\n",
      "Cybercrim\n",
      "['Cybercrime', 'discussed', 'problem', 'twentyfirst', 'century', 'usage', 'cell', 'phones', 'internet', 'increasing', 'dramatically', 'world', 'generating', 'questions', 'consumers', 'security', 'privacy', 'users', 'must', 'understand', 'cybercrime', 'security', 'Cybercrime', 'defined', 'organised', 'criminal', 'conduct', 'carried', 'attackers', 'online', 'Cybercrime', 'comes', 'numerous', 'forms', 'fraud', 'computer', 'viruses', 'cyberstalking', 'others', 'Due', 'businesses', 'government', 'organisations', 'spending', 'maintaining', 'employing', 'professionals', 'cybercrime', '7', 'Cyber', 'security', 'keywords', '1', 'Artificial', 'Intelligence', 'AI', 'around', 'quite', 'one', 'memorable', 'advancements', 'Go', 'game', 'AlphaGo', 'computer', 'Go', 'program', 'developed', 'Google', 'DeepMind', 'world', 'champion', 'Lee', 'Sedol', 'AlphaGo', 'able', 'use', 'collected', 'data', 'achieve', 'goal', 'socalled', 'weak', 'AI', 'used', 'AlphaGo', 'also', 'applied', 'various', 'fields', 'within', 'cyber', 'security', '2', 'Ransomware', 'past', 'years', 'ransomware', 'aiming', 'innumerable', 'targets', 'However', 'new', 'method', 'attack', 'aims', 'specific', 'targets', 'companies', 'communities', 'public', 'institutions', 'risk', 'Companies', 'strong', 'financial', 'powers', 'likely', 'targets', 'attackers', 'rewarded', 'huge', 'sums', 'money', 'success', 'providing', 'Infra', 'Database', 'storage', 'local', 'government', 'healthcare', 'organizations', 'listed', 'main', 'targets', 'ransomware', 'attacks', '3', 'Supply', 'Chain', 'Attack', 'supply', 'chain', 'attack', 'cyberattack', 'affects', 'organization', 'targeting', 'lesssecure', 'elements', 'supply', 'network', 'Supply', 'Chain', 'attacks', 'already', 'list', '7', 'Cybersecurity', 'keywords', 'last', 'year', 'still', 'manage', 'maintain', 'place', 'attacks', 'continue', 'infiltrate', 'supply', 'chain', 'thirdparty', 'systems', 'services', 'Therefore', 'due', 'weak', 'security', 'systems', 'purchasing', 'thirdparty', 'vendor', 'products', 'services', 'must', 'take', 'extra', 'caution', '4', 'Cloud', 'interest', 'Cloud', 'Security', 'rise', 'However', 'pointed', 'Cloud', 'computings', 'largest', 'vulnerability', 'operators', 'configuration', 'error', 'complex', 'flexible', 'Cloud', 'systems', 'eventually', 'lead', 'greater', 'number', 'errors', 'reveal', 'target', 'many', 'cyber', 'attackers', '5', 'Malicious', 'emails', 'Receiving', 'emails', 'containing', 'malware', 'new', 'thing', 'anymore', 'Financial', 'Security', 'Institute', 'warns', 'us', 'malware', 'email', 'attacks', 'becoming', 'cunning', 'harder', 'block', 'Spear', 'Phishing', 'traditional', 'method', 'attack', 'uses', 'HWP', 'DOC', 'documents', 'stop', 'year', '6', 'Internet', 'Things', 'IoT', 'Building', 'castles', 'air', 'perfect', 'phrase', 'describe', 'IoT', 'perceived', 'However', 'IoT', 'become', 'part', 'lives', 'People', 'watch', 'YouTube', 'refrigerators', 'gas', 'valves', 'closed', 'using', 'Smartphone', 'applications', 'Many', 'experiencing', 'easier', 'lifestyle', 'also', 'suffering', 'many', 'cyber', 'threats', '7', 'Darkweb', 'Due', 'several', 'incidents', 'Darkweb', 'known', 'cyber', 'attackers', 'security', 'professionals', 'wellknown', 'public', 'example', 'Warez', 'Webhard', 'two', 'programs', 'Netizens', 'Korea', 'improve', 'networking', 'skills', 'also', 'leads', 'involved', 'distributing', 'illegal', 'programs', 'even', 'cybercrime', 'millions', 'billions', 'users', 'websites', 'vast', 'community', 'known', 'cyberspace', 'People', 'utilise', 'variety', 'activities', 'including', 'ecommerce', 'transactions', 'shopping', 'movies', 'music', 'video', 'games', 'Anyone', 'simply', 'access', 'anything', 'online', 'current', 'technological', 'era', 'owing', 'accessible', 'internet', 'connection', 'result', 'crime', 'general', 'cybercrime', 'particular', 'surged', 'dramatically', 'Additionally', 'faster', 'internet', 'connection', 'greatly', 'boosted', 'rate', 'data', 'circulation', 'problems', 'responsible', 'cyber', 'security', 'grown', 'significant', 'issue', 'society', 'government', 'created', 'several', 'cybercrimerelated', 'laws', 'curb', 'spread', 'crime', 'protect', 'peoples', 'interests', 'laws', 'also', 'provide', 'defence', 'cybercrime', 'Aside', 'government', 'established', 'cyber', 'cells', 'police', 'stations', 'combat', 'cybercrime', 'quickly', 'possible', 'Cybercrime', 'attack', 'harmful', 'individual', 'business', 'several', 'instances', 'Cyber', 'Attack', 'led', 'data', 'leak', 'caused', 'significant', 'loss', 'business', 'person', 'cyberattacks', 'could', 'negative', 'effects', 'country', 'business', 'countless', 'instances', 'cyberattacks', 'taken', 'place', 'India', 'nations', 'necessitated', 'increased', 'security', 'measures', 'four', 'main', 'categories', 'cybercrime', 'according', 'popular', 'definitionhacking', 'money', 'privacy', 'cyberterrorism', 'Cybercrime', 'type', 'crime', 'illegal', 'activities', 'carried', 'online', 'using', 'computers', 'Cybercrime', 'comes', 'variety', 'forms', 'involves', 'harassing', 'online', 'users', 'Cybercrime', 'serious', 'rapidly', 'expanding', 'type', 'crime', 'day', 'age', 'persons', 'life', 'may', 'negatively', 'impacted', 'long', 'time', 'becoming', 'cyber', 'victim', 'Cybercrimes', 'wide', 'range', 'repercussions', 'financial', 'investment', 'activity', 'digital', 'organisations', 'One', 'typical', 'tactic', 'used', 'criminals', 'lure', 'online', 'users', 'creating', 'attractive', 'websites', 'sending', 'phoney', 'emails', 'purporting', 'banks', 'organisations', 'asking', 'personal', 'information', 'makes', 'easier', 'criminals', 'access', 'persons', 'bank', 'account', 'personal', 'data', 'Due', 'viruses', 'mail', 'fraud', 'account', 'hacking', 'software', 'piracy', 'people', 'victims', 'cybercrimes', 'also', 'run', 'problems', 'unauthorised', 'access', 'mailing', 'threats', 'pornographic', 'emails', 'video', 'transmission', 'Types', 'Cyber', 'Crime', 'Cyberstalking', 'use', 'electronic', 'communication', 'track', 'person', 'make', 'repeated', 'attempts', 'get', 'touch', 'foster', 'personal', 'interaction', 'despite', 'blatant', 'lack', 'interest', 'Anyone', 'monitors', 'internet', 'email', 'form', 'electronic', 'communication', 'guilty', 'stalking', 'Phishing', 'sort', 'fraud', 'includes', 'collecting', 'personal', 'data', 'recipients', 'emails', 'seem', 'coming', 'reliable', 'source', 'including', 'Customer', 'ID', 'IPIN', 'CreditDebit', 'Card', 'number', 'Card', 'expiration', 'date', 'CVV', 'number', 'etc', 'Vishing', 'attempt', 'criminals', 'attempt', 'obtain', 'personal', 'information', 'phone', 'Customer', 'ID', 'Net', 'Banking', 'password', 'ATM', 'PIN', 'OTP', 'Card', 'expiration', 'date', 'CVV', 'etc', 'Smishing', 'sort', 'fraud', 'employs', 'text', 'messages', 'sent', 'mobile', 'devices', 'entice', 'victims', 'dialling', 'fake', 'phone', 'number', 'going', 'fake', 'website', 'downloading', 'harmful', 'software', 'Impersonation', 'Identity', 'Theft', 'includes', 'dishonest', 'fraudulent', 'use', 'another', 'persons', 'electronic', 'signature', 'password', 'distinctive', 'identification', 'trait', 'Virus', 'Worms', 'Trojan', 'computer', 'virus', 'program', 'designed', 'infiltrate', 'computer', 'corrupt', 'files', 'data', 'spread', 'Worms', 'malicious', 'software', 'applications', 'repeatedly', 'duplicate', 'local', 'drives', 'network', 'shares', 'etc', 'Trojan', 'malicious', 'program', 'mimics', 'legitimate', 'application', 'Trojans', 'offer', 'unauthorised', 'people', 'applications', 'access', 'computer', 'backdoor', 'entry', 'allowing', 'steal', 'sensitive', 'data', 'Prevent', 'Cyber', 'Crime', 'Back', 'every', 'piece', 'informationdata', 'systems', 'considerationsto', 'make', 'easier', 'businesses', 'recover', 'unforeseen', 'events', 'help', 'prior', 'data', 'Pick', 'firewall', 'offers', 'protection', 'viruses', 'malware', 'dishonest', 'hackers', 'Never', 'divulge', 'private', 'information', 'stranger', 'since', 'might', 'exploit', 'fraud', 'avoid', 'cybercrime', 'check', 'security', 'settingsto', 'determine', 'someone', 'logged', 'computer', 'cyber', 'firewall', 'analyses', 'network', 'settings', 'Antivirus', 'software', 'aids', 'identifying', 'potential', 'threats', 'malware', 'infect', 'computer', 'system', 'Never', 'use', 'software', 'cracked', 'since', 'poses', 'serious', 'risk', 'data', 'loss', 'malware', 'attack', 'Keep', 'information', 'protected', 'accessing', 'untrusted', 'websitesinformation', 'readily', 'bypass', 'data', 'phishing', 'websites', 'Blackcoffer', 'Insights', '47', 'Vedant', 'Chaudhari', 'R', 'C', 'Patel', 'Institute', 'Technology', 'Shirpur']\n",
      "Scores are:(31, 70, -0.3861386100382316, 0.12801013925474)\n",
      "19.513157894736842\n",
      "6.935361216730038\n",
      "2\n"
     ]
    }
   ],
   "source": [
    "url = \"https://insights.blackcoffer.com/rise-of-cyber-crime-and-its-effects/\"\n",
    "title,article_text=scrape(url)\n",
    "print(title)\n",
    "print(article_text[:100])\n",
    "clean_sentence,clean_words_list=clean_it(article_text)\n",
    "print(clean_sentence[:10])\n",
    "print(clean_words_list)\n",
    "p,n,po,su=scores(clean_words_list,positive_words_set,negative_words_set)\n",
    "print(f\"Scores are:{p,n,po,su}\")\n",
    "ans1=average_sentence_length(article_text)\n",
    "print(ans1)\n",
    "ans2=average_word_length(clean_words_list)\n",
    "print(ans2)\n",
    "ans3=count_personal_pronouns(article_text)\n",
    "print(ans3)\n"
   ]
  },
  {
   "cell_type": "code",
   "execution_count": 13,
   "id": "2d7717fa",
   "metadata": {},
   "outputs": [],
   "source": [
    "def count_syllables(word):\n",
    "    word = word.lower()\n",
    "    vowels = \"aeiouAEIOU\"\n",
    "    num_vowels = 0\n",
    "    prev_char_was_vowel = False\n",
    "\n",
    "    for char in word:\n",
    "        if char in vowels:\n",
    "            if not prev_char_was_vowel:\n",
    "                num_vowels += 1\n",
    "            prev_char_was_vowel = True\n",
    "        else:\n",
    "            prev_char_was_vowel = False\n",
    "\n",
    "    # Adjust for 'e' at the end\n",
    "    if word.endswith('e'):\n",
    "        num_vowels -= 1\n",
    "\n",
    "    return max(1, num_vowels)\n",
    "\n",
    "def find_complex_words_from_list(words):\n",
    "    # Identify complex words\n",
    "    complex_words = [word for word in words if count_syllables(word) > 2]\n",
    "    return complex_words"
   ]
  },
  {
   "cell_type": "markdown",
   "id": "8f91b1ad",
   "metadata": {},
   "source": [
    "# TEST FOR COMPLEX WORD FUNCTION"
   ]
  },
  {
   "cell_type": "code",
   "execution_count": 14,
   "id": "09e6227e",
   "metadata": {},
   "outputs": [
    {
     "name": "stdout",
     "output_type": "stream",
     "text": [
      "Complex Words: ['programming', 'challenging', 'rewarding', 'extraordinary']\n"
     ]
    }
   ],
   "source": [
    "words_list = [\"I\", \"love\", \"programming\", \"It's\", \"both\", \"challenging\", \"and\", \"rewarding\", \"Let's\", \"write\", \"some\", \"extraordinary\", \"code\"]\n",
    "\n",
    "# Find complex words from the list\n",
    "complex_words = find_complex_words_from_list(words_list)\n",
    "print(\"Complex Words:\", complex_words)"
   ]
  },
  {
   "cell_type": "markdown",
   "id": "fda29a21",
   "metadata": {},
   "source": [
    "# TIME TO FILL THE OUTPUT"
   ]
  },
  {
   "cell_type": "code",
   "execution_count": 15,
   "id": "fa04a5c7",
   "metadata": {},
   "outputs": [
    {
     "name": "stdout",
     "output_type": "stream",
     "text": [
      "Request error for URL https://insights.blackcoffer.com/how-neural-networks-can-be-applied-in-various-areas-in-the-future/: 404 Client Error: Not Found for url: https://insights.blackcoffer.com/how-neural-networks-can-be-applied-in-various-areas-in-the-future/\n",
      "Request error for URL https://insights.blackcoffer.com/covid-19-environmental-impact-for-the-future/: 404 Client Error: Not Found for url: https://insights.blackcoffer.com/covid-19-environmental-impact-for-the-future/\n",
      "Done Filling \n"
     ]
    }
   ],
   "source": [
    "import pandas as pd\n",
    "\n",
    "# Read the existing Excel file\n",
    "file_path = 'Output Data Structure.xlsx'\n",
    "df = pd.read_excel(file_path)\n",
    "\n",
    "# Iterate over each URL in the Excel file\n",
    "for index, row in df.iterrows():\n",
    "    url = row['URL']  # Assuming 'URL' is the column name containing URLs\n",
    "    title,article_text=scrape(url)\n",
    "    clean_sentence,clean_words_list=clean_it(article_text)\n",
    "    \n",
    "    pos_score,neg_score,polarity,subjectivity=scores(clean_words_list,positive_words_set,negative_words_set)\n",
    "    df.at[index,'POSITIVE SCORE'] = pos_score\n",
    "    df.at[index,'NEGATIVE SCORE'] = neg_score\n",
    "    df.at[index,'POLARITY SCORE'] = polarity\n",
    "    df.at[index,'SUBJECTIVITY SCORE'] = subjectivity\n",
    "    \n",
    "    ans1=average_sentence_length(article_text)\n",
    "    df.at[index,'AVG SENTENCE LENGTH']=ans1\n",
    "    df.at[index,'AVG NUMBER OF WORDS PER SENTENCE']=ans1\n",
    "    \n",
    "    number_of_cmpwords=find_complex_words_from_list(clean_words_list)\n",
    "    df.at[index,'COMPLEX WORD COUNT']=len(number_of_cmpwords)\n",
    "    \n",
    "    perc_cmpwords=len(number_of_cmpwords)/len(clean_words_list)\n",
    "    df.at[index,'PERCENTAGE OF COMPLEX WORDS']=perc_cmpwords\n",
    "    \n",
    "    fog_index= 0.4 * (ans1 + perc_cmpwords)\n",
    "    df.at[index,'FOG INDEX']=fog_index\n",
    "\n",
    "    ans2=average_word_length(clean_words_list)\n",
    "    df.at[index,'AVG WORD LENGTH']=ans2\n",
    "    \n",
    "    ans3=count_personal_pronouns(article_text)\n",
    "    df.at[index,'PERSONAL PRONOUNS']=ans3\n",
    "    \n",
    "    ans4=len(clean_words_list)\n",
    "    df.at[index,'WORD COUNT']=ans4\n",
    "    \n",
    "    df.to_excel(file_path, index=False)\n",
    "\n",
    "print(\"Done Filling \")\n"
   ]
  },
  {
   "cell_type": "code",
   "execution_count": 17,
   "id": "ef93c662",
   "metadata": {},
   "outputs": [
    {
     "name": "stdout",
     "output_type": "stream",
     "text": [
      "             URL_ID                                                URL  \\\n",
      "0   blackassign0001  https://insights.blackcoffer.com/rising-it-cit...   \n",
      "1   blackassign0002  https://insights.blackcoffer.com/rising-it-cit...   \n",
      "2   blackassign0003  https://insights.blackcoffer.com/internet-dema...   \n",
      "3   blackassign0004  https://insights.blackcoffer.com/rise-of-cyber...   \n",
      "4   blackassign0005  https://insights.blackcoffer.com/ott-platform-...   \n",
      "..              ...                                                ...   \n",
      "95  blackassign0096  https://insights.blackcoffer.com/what-is-the-r...   \n",
      "96  blackassign0097  https://insights.blackcoffer.com/impact-of-cov...   \n",
      "97  blackassign0098  https://insights.blackcoffer.com/contribution-...   \n",
      "98  blackassign0099  https://insights.blackcoffer.com/how-covid-19-...   \n",
      "99  blackassign0100  https://insights.blackcoffer.com/how-will-covi...   \n",
      "\n",
      "    POSITIVE SCORE  NEGATIVE SCORE  POLARITY SCORE  SUBJECTIVITY SCORE  \\\n",
      "0               44               6        0.760000            0.077882   \n",
      "1               64              31        0.347368            0.107832   \n",
      "2               40              24        0.250000            0.095097   \n",
      "3               40              75       -0.304348            0.170118   \n",
      "4               23               8        0.483871            0.074519   \n",
      "..             ...             ...             ...                 ...   \n",
      "95              30              57       -0.310345            0.133231   \n",
      "96              32              35       -0.044776            0.126415   \n",
      "97               6               3        0.333333            0.035714   \n",
      "98              27               3        0.800000            0.083799   \n",
      "99              36              57       -0.225806            0.156040   \n",
      "\n",
      "    AVG SENTENCE LENGTH  PERCENTAGE OF COMPLEX WORDS  FOG INDEX  \\\n",
      "0             17.576923                     0.227414   7.121735   \n",
      "1             21.112500                     0.367764   8.592106   \n",
      "2             21.368421                     0.482912   8.740533   \n",
      "3             23.442308                     0.430473   9.549112   \n",
      "4             19.538462                     0.336538   7.950000   \n",
      "..                  ...                          ...        ...   \n",
      "95            24.300000                     0.370597   9.868239   \n",
      "96            31.736842                     0.283019  12.807944   \n",
      "97            35.916667                     0.321429  14.495238   \n",
      "98            22.193548                     0.198324   8.956749   \n",
      "99            37.093750                     0.337248  14.972399   \n",
      "\n",
      "    AVG NUMBER OF WORDS PER SENTENCE  COMPLEX WORD COUNT  WORD COUNT  \\\n",
      "0                          17.576923                 146         642   \n",
      "1                          21.112500                 324         881   \n",
      "2                          21.368421                 325         673   \n",
      "3                          23.442308                 291         676   \n",
      "4                          19.538462                 140         416   \n",
      "..                               ...                 ...         ...   \n",
      "95                         24.300000                 242         653   \n",
      "96                         31.736842                 150         530   \n",
      "97                         35.916667                  81         252   \n",
      "98                         22.193548                  71         358   \n",
      "99                         37.093750                 201         596   \n",
      "\n",
      "    SYLLABLE PER WORD  PERSONAL PRONOUNS  AVG WORD LENGTH  \n",
      "0                 NaN                 18         6.277259  \n",
      "1                 NaN                 10         7.212259  \n",
      "2                 NaN                 20         8.052006  \n",
      "3                 NaN                  6         7.778107  \n",
      "4                 NaN                  6         7.230769  \n",
      "..                ...                ...              ...  \n",
      "95                NaN                  5         7.022971  \n",
      "96                NaN                 14         6.458491  \n",
      "97                NaN                  1         7.095238  \n",
      "98                NaN                  5         5.980447  \n",
      "99                NaN                  5         7.115772  \n",
      "\n",
      "[100 rows x 15 columns]\n"
     ]
    }
   ],
   "source": [
    "output = pd.read_excel(file_path)\n",
    "print(output)"
   ]
  },
  {
   "cell_type": "code",
   "execution_count": null,
   "id": "9fdf754e",
   "metadata": {},
   "outputs": [],
   "source": []
  }
 ],
 "metadata": {
  "kernelspec": {
   "display_name": "Python 3 (ipykernel)",
   "language": "python",
   "name": "python3"
  },
  "language_info": {
   "codemirror_mode": {
    "name": "ipython",
    "version": 3
   },
   "file_extension": ".py",
   "mimetype": "text/x-python",
   "name": "python",
   "nbconvert_exporter": "python",
   "pygments_lexer": "ipython3",
   "version": "3.11.3"
  }
 },
 "nbformat": 4,
 "nbformat_minor": 5
}
